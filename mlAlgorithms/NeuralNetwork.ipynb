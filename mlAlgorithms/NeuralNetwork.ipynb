{
 "cells": [
  {
   "cell_type": "code",
   "execution_count": 27,
   "metadata": {},
   "outputs": [],
   "source": [
    "import numpy as np\n",
    "import pandas as pd\n",
    "import math"
   ]
  },
  {
   "cell_type": "code",
   "execution_count": 15,
   "metadata": {},
   "outputs": [
    {
     "name": "stdout",
     "output_type": "stream",
     "text": [
      "   a  b  c\n",
      "0  1  0  1\n",
      "1  0  1  1\n",
      "2  0  0  0\n",
      "3  1  1  1\n"
     ]
    }
   ],
   "source": [
    "# Create a Simple neural network\n",
    "\n",
    "\n",
    "data = pd.DataFrame([[1,0,1],[0,1,1],[0,0,0],[1,1,1]],  columns = ['a','b','c'])\n",
    "\n",
    "\n",
    "print(data)\n",
    "\n"
   ]
  },
  {
   "cell_type": "code",
   "execution_count": null,
   "metadata": {},
   "outputs": [],
   "source": [
    "# Initialize LearningRate \n",
    "epsilon = 0.01\n"
   ]
  },
  {
   "cell_type": "code",
   "execution_count": 41,
   "metadata": {},
   "outputs": [
    {
     "name": "stdout",
     "output_type": "stream",
     "text": [
      "Layer1 Random weights\n",
      "[[0.55187133]\n",
      " [0.67096884]]\n",
      "[[0.12648359]\n",
      " [0.02862467]]\n",
      "[[0.84507005]\n",
      " [0.16417906]]\n",
      "Layer2 Random weights\n",
      "[[0.2746712]]\n",
      "[[0.25511521]]\n",
      "[[0.8001665]]\n"
     ]
    }
   ],
   "source": [
    "# Initialze the Weights using Random function \n",
    "\n",
    "Layer1Weight1 = np.random.rand(2,1)\n",
    "Layer1Weight2 = np.random.rand(2,1)\n",
    "Layer1Weight3 = np.random.rand(2,1)\n",
    "\n",
    "print(\"Layer1 Random weights\")\n",
    "\n",
    "print(Layer1Weight1)\n",
    "print(Layer1Weight2)\n",
    "print(Layer1Weight3)\n",
    "\n",
    "print(\"Layer2 Random weights\")\n",
    "\n",
    "Layer2Weight1 = np.random.rand(1,1)\n",
    "Layer2Weight2 = np.random.rand(1,1)\n",
    "Layer2Weight3 = np.random.rand(1,1)\n",
    "\n",
    "print(Layer2Weight1)\n",
    "print(Layer2Weight2)\n",
    "print(Layer2Weight3)\n",
    "\n",
    "\n",
    "weights = {\n",
    "    'layer1' : np.array([Layer1Weight1,Layer1Weight2,Layer1Weight3]),\n",
    "    'layer2' : np.array([Layer2Weight1,Layer2Weight2,Layer2Weight3])\n",
    "    \n",
    "}\n",
    "\n",
    "\n",
    "networkWeigts = pd.DataFrame([[np.random.rand(2,3)],[np.random.rand(3,1)]], index=['1','2'])\n"
   ]
  },
  {
   "cell_type": "code",
   "execution_count": 26,
   "metadata": {},
   "outputs": [],
   "source": [
    "# Initialize number of epochs  / Training cycles over dataset\n",
    "epochs = 100\n"
   ]
  },
  {
   "cell_type": "markdown",
   "metadata": {},
   "source": [
    "IMPLEMENTING THE FUNCTIONS"
   ]
  },
  {
   "cell_type": "code",
   "execution_count": 32,
   "metadata": {},
   "outputs": [
    {
     "name": "stdout",
     "output_type": "stream",
     "text": [
      "0.5\n"
     ]
    }
   ],
   "source": [
    "# sigmoid function\n",
    "# 1 / (1+ e^(-X))\n",
    "def sigmoid(X):\n",
    "    return (1/(1+math.e**(-X)))\n",
    "\n"
   ]
  },
  {
   "cell_type": "code",
   "execution_count": null,
   "metadata": {},
   "outputs": [],
   "source": [
    "# Forward propogate \n",
    "def (X,y, Weights):\n",
    "    "
   ]
  }
 ],
 "metadata": {
  "kernelspec": {
   "display_name": "Python 3",
   "language": "python",
   "name": "python3"
  },
  "language_info": {
   "codemirror_mode": {
    "name": "ipython",
    "version": 3
   },
   "file_extension": ".py",
   "mimetype": "text/x-python",
   "name": "python",
   "nbconvert_exporter": "python",
   "pygments_lexer": "ipython3",
   "version": "3.6.4"
  }
 },
 "nbformat": 4,
 "nbformat_minor": 2
}
